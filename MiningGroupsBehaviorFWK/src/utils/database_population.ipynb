{
 "cells": [
  {
   "cell_type": "code",
   "execution_count": 19,
   "metadata": {
    "collapsed": true
   },
   "outputs": [],
   "source": [
    "from datetime import datetime\n",
    "from datetime import timedelta\n",
    "from random import randint, choice\n",
    "\n",
    "import pandas as pd\n",
    "from sqlalchemy import create_engine\n",
    "\n",
    "from settings.settings import CUSTOMERS_TABLE_FIELDS, ITEMS_TABLE_FIELDS, TRANSACTIONS_TABLE_FIELDS\n",
    "\n",
    "engine = create_engine(\"postgres://miningAgent:@localhost/QeNoBi\")"
   ]
  },
  {
   "cell_type": "code",
   "execution_count": 20,
   "outputs": [],
   "source": [
    "### Generate transactions\n",
    "nb_transactions = 10000\n",
    "customers_range = (0,50)\n",
    "items_range= (0,100)\n",
    "stations_range = (0,100)\n",
    "date_min = datetime(2017,1,1)\n",
    "max_days = 356\n",
    "res = []\n",
    "for i in range(0,nb_transactions):\n",
    "    res.append((\n",
    "        randint(*items_range),\n",
    "        randint(*customers_range),\n",
    "        randint(*stations_range),\n",
    "        (date_min + timedelta(days=randint(10,max_days))),\n",
    "        i,\n",
    "    ))\n",
    "transactions = pd.DataFrame(res,columns=TRANSACTIONS_TABLE_FIELDS)\n",
    "transactions[\"transaction_date\"] = pd.to_datetime(transactions[\"transaction_date\"])\n",
    "transactions.to_sql(\"transactions\",con=engine,if_exists=\"replace\",index=False,method=\"multi\",chunksize=2000)"
   ],
   "metadata": {
    "collapsed": false,
    "pycharm": {
     "name": "#%%\n"
    }
   }
  },
  {
   "cell_type": "code",
   "execution_count": 21,
   "outputs": [
    {
     "data": {
      "text/plain": "      item_id  customer_id  station_id transaction_date  transaction_id\n0          28           39          74       2017-07-08               0\n1          10           10          68       2017-05-10               1\n2           9           31          78       2017-09-09               2\n3          95           25          99       2017-10-24               3\n4          97           18          81       2017-12-12               4\n...       ...          ...         ...              ...             ...\n9995       22            0          16       2017-12-02            9995\n9996       81           24          72       2017-01-13            9996\n9997       44           18          91       2017-09-01            9997\n9998       92           10          80       2017-04-15            9998\n9999        4            1           1       2017-07-14            9999\n\n[10000 rows x 5 columns]",
      "text/html": "<div>\n<style scoped>\n    .dataframe tbody tr th:only-of-type {\n        vertical-align: middle;\n    }\n\n    .dataframe tbody tr th {\n        vertical-align: top;\n    }\n\n    .dataframe thead th {\n        text-align: right;\n    }\n</style>\n<table border=\"1\" class=\"dataframe\">\n  <thead>\n    <tr style=\"text-align: right;\">\n      <th></th>\n      <th>item_id</th>\n      <th>customer_id</th>\n      <th>station_id</th>\n      <th>transaction_date</th>\n      <th>transaction_id</th>\n    </tr>\n  </thead>\n  <tbody>\n    <tr>\n      <th>0</th>\n      <td>28</td>\n      <td>39</td>\n      <td>74</td>\n      <td>2017-07-08</td>\n      <td>0</td>\n    </tr>\n    <tr>\n      <th>1</th>\n      <td>10</td>\n      <td>10</td>\n      <td>68</td>\n      <td>2017-05-10</td>\n      <td>1</td>\n    </tr>\n    <tr>\n      <th>2</th>\n      <td>9</td>\n      <td>31</td>\n      <td>78</td>\n      <td>2017-09-09</td>\n      <td>2</td>\n    </tr>\n    <tr>\n      <th>3</th>\n      <td>95</td>\n      <td>25</td>\n      <td>99</td>\n      <td>2017-10-24</td>\n      <td>3</td>\n    </tr>\n    <tr>\n      <th>4</th>\n      <td>97</td>\n      <td>18</td>\n      <td>81</td>\n      <td>2017-12-12</td>\n      <td>4</td>\n    </tr>\n    <tr>\n      <th>...</th>\n      <td>...</td>\n      <td>...</td>\n      <td>...</td>\n      <td>...</td>\n      <td>...</td>\n    </tr>\n    <tr>\n      <th>9995</th>\n      <td>22</td>\n      <td>0</td>\n      <td>16</td>\n      <td>2017-12-02</td>\n      <td>9995</td>\n    </tr>\n    <tr>\n      <th>9996</th>\n      <td>81</td>\n      <td>24</td>\n      <td>72</td>\n      <td>2017-01-13</td>\n      <td>9996</td>\n    </tr>\n    <tr>\n      <th>9997</th>\n      <td>44</td>\n      <td>18</td>\n      <td>91</td>\n      <td>2017-09-01</td>\n      <td>9997</td>\n    </tr>\n    <tr>\n      <th>9998</th>\n      <td>92</td>\n      <td>10</td>\n      <td>80</td>\n      <td>2017-04-15</td>\n      <td>9998</td>\n    </tr>\n    <tr>\n      <th>9999</th>\n      <td>4</td>\n      <td>1</td>\n      <td>1</td>\n      <td>2017-07-14</td>\n      <td>9999</td>\n    </tr>\n  </tbody>\n</table>\n<p>10000 rows × 5 columns</p>\n</div>"
     },
     "execution_count": 21,
     "metadata": {},
     "output_type": "execute_result"
    }
   ],
   "source": [
    "transactions"
   ],
   "metadata": {
    "collapsed": false,
    "pycharm": {
     "name": "#%%\n"
    }
   }
  },
  {
   "cell_type": "code",
   "execution_count": 22,
   "outputs": [],
   "source": [
    "###### Insertion of customers\n",
    "sex_values = [\"M\",\"F\"]\n",
    "age_values = [\"<35\",\"35-49\",\">49\"]\n",
    "departements_values = [i for i in range(0,98)]\n",
    "res = []\n",
    "for i in transactions.customer_id.unique():\n",
    "    res.append((\n",
    "        i,\n",
    "        choice(sex_values),\n",
    "        choice(age_values),\n",
    "        choice(departements_values)\n",
    "    ))\n",
    "customers = pd.DataFrame(res,columns=CUSTOMERS_TABLE_FIELDS)\n",
    "customers.to_sql(\"customers\",con=engine,if_exists=\"replace\",index=False)"
   ],
   "metadata": {
    "collapsed": false,
    "pycharm": {
     "name": "#%%\n"
    }
   }
  },
  {
   "cell_type": "code",
   "execution_count": 23,
   "outputs": [],
   "source": [
    "### Insertion of items\n",
    "items_columns = [\"description\",\"item_id\"]\n",
    "res = []\n",
    "for i in transactions.item_id.unique():\n",
    "    res.append((\n",
    "        f\"I-{i}\",\n",
    "        i,\n",
    "    ))\n",
    "items_df = pd.DataFrame(res,columns=ITEMS_TABLE_FIELDS)\n",
    "items_df.to_sql('items',con=engine,if_exists=\"replace\",index=False)"
   ],
   "metadata": {
    "collapsed": false,
    "pycharm": {
     "name": "#%%\n"
    }
   }
  },
  {
   "cell_type": "code",
   "execution_count": 24,
   "outputs": [],
   "source": [
    "#### Insertion of stations\n",
    "stations_columns = [\"station_id\",\"station_type\"]\n",
    "res = []\n",
    "for i in transactions.station_id.unique():\n",
    "    res.append((\n",
    "        i,\n",
    "        f\"TYPE-{i%3}\"\n",
    "    ))\n",
    "stations = pd.DataFrame(res,columns=stations_columns)\n",
    "stations.to_sql(\"stations\",con=engine,if_exists=\"replace\",index=False)\n"
   ],
   "metadata": {
    "collapsed": false,
    "pycharm": {
     "name": "#%%\n"
    }
   }
  },
  {
   "cell_type": "code",
   "execution_count": 24,
   "outputs": [],
   "source": [],
   "metadata": {
    "collapsed": false,
    "pycharm": {
     "name": "#%%\n"
    }
   }
  },
  {
   "cell_type": "code",
   "execution_count": null,
   "outputs": [],
   "source": [],
   "metadata": {
    "collapsed": false,
    "pycharm": {
     "name": "#%%\n"
    }
   }
  }
 ],
 "metadata": {
  "kernelspec": {
   "name": "pycharm-692c1db",
   "language": "python",
   "display_name": "PyCharm (MiningGroupsBehavior)"
  },
  "language_info": {
   "codemirror_mode": {
    "name": "ipython",
    "version": 2
   },
   "file_extension": ".py",
   "mimetype": "text/x-python",
   "name": "python",
   "nbconvert_exporter": "python",
   "pygments_lexer": "ipython2",
   "version": "2.7.6"
  }
 },
 "nbformat": 4,
 "nbformat_minor": 0
}