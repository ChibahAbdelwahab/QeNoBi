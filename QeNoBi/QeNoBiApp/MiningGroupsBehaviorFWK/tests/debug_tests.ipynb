{
 "cells": [
  {
   "cell_type": "code",
   "execution_count": 1,
   "metadata": {
    "collapsed": true
   },
   "outputs": [],
   "source": [
    "import pandas as pd\n"
   ]
  },
  {
   "cell_type": "code",
   "execution_count": 16,
   "outputs": [
    {
     "data": {
      "text/plain": "                                               user_ids  support    itemsets  \\\n0     [133955, 147495, 156003, 168797, 235302, 27218...     44.0        4126   \n2     [106150, 159853, 175616, 294969, 316534, 40753...     14.0        3509   \n3     [176424, 246323, 261443, 266265, 269187, 30603...     15.0        1738   \n4     [139038, 187833, 269187, 278763, 345758, 35064...     15.0        1622   \n5     [139038, 172406, 294969, 367928, 379152, 40432...     13.0        6969   \n...                                                 ...      ...         ...   \n2208  [114342, 257995, 367523, 384386, 407974, 40917...     19.0   2975 4126   \n2209  [355725, 416219, 471775, 518871, 519885, 52870...     34.0        4144   \n2210  [112044, 120672, 179988, 183691, 196232, 19775...     73.0        2946   \n2211  [104345, 116539, 120672, 121796, 129105, 16105...     63.0        5343   \n2212  [102136, 277677, 281256, 409174, 486791, 73248...     13.0   4125 4126   \n\n          period property_values     depth  size sex  \n0     2017-03-31               F  0.000000    44   F  \n2     2017-03-31               M  0.000000    14   M  \n3     2017-03-31               M  0.000000    15   M  \n4     2017-03-31               M  0.000000    15   M  \n5     2017-03-31               M  0.000000    13   M  \n...          ...             ...       ...   ...  ..  \n2208  2019-12-31               M  0.970588    19   M  \n2209  2019-12-31               M  0.970588    34   M  \n2210  2019-12-31               M  0.970588    73   M  \n2211  2019-12-31               M  0.970588    63   M  \n2212  2019-12-31               M  0.970588    13   M  \n\n[2146 rows x 8 columns]",
      "text/html": "<div>\n<style scoped>\n    .dataframe tbody tr th:only-of-type {\n        vertical-align: middle;\n    }\n\n    .dataframe tbody tr th {\n        vertical-align: top;\n    }\n\n    .dataframe thead th {\n        text-align: right;\n    }\n</style>\n<table border=\"1\" class=\"dataframe\">\n  <thead>\n    <tr style=\"text-align: right;\">\n      <th></th>\n      <th>user_ids</th>\n      <th>support</th>\n      <th>itemsets</th>\n      <th>period</th>\n      <th>property_values</th>\n      <th>depth</th>\n      <th>size</th>\n      <th>sex</th>\n    </tr>\n  </thead>\n  <tbody>\n    <tr>\n      <th>0</th>\n      <td>[133955, 147495, 156003, 168797, 235302, 27218...</td>\n      <td>44.0</td>\n      <td>4126</td>\n      <td>2017-03-31</td>\n      <td>F</td>\n      <td>0.000000</td>\n      <td>44</td>\n      <td>F</td>\n    </tr>\n    <tr>\n      <th>2</th>\n      <td>[106150, 159853, 175616, 294969, 316534, 40753...</td>\n      <td>14.0</td>\n      <td>3509</td>\n      <td>2017-03-31</td>\n      <td>M</td>\n      <td>0.000000</td>\n      <td>14</td>\n      <td>M</td>\n    </tr>\n    <tr>\n      <th>3</th>\n      <td>[176424, 246323, 261443, 266265, 269187, 30603...</td>\n      <td>15.0</td>\n      <td>1738</td>\n      <td>2017-03-31</td>\n      <td>M</td>\n      <td>0.000000</td>\n      <td>15</td>\n      <td>M</td>\n    </tr>\n    <tr>\n      <th>4</th>\n      <td>[139038, 187833, 269187, 278763, 345758, 35064...</td>\n      <td>15.0</td>\n      <td>1622</td>\n      <td>2017-03-31</td>\n      <td>M</td>\n      <td>0.000000</td>\n      <td>15</td>\n      <td>M</td>\n    </tr>\n    <tr>\n      <th>5</th>\n      <td>[139038, 172406, 294969, 367928, 379152, 40432...</td>\n      <td>13.0</td>\n      <td>6969</td>\n      <td>2017-03-31</td>\n      <td>M</td>\n      <td>0.000000</td>\n      <td>13</td>\n      <td>M</td>\n    </tr>\n    <tr>\n      <th>...</th>\n      <td>...</td>\n      <td>...</td>\n      <td>...</td>\n      <td>...</td>\n      <td>...</td>\n      <td>...</td>\n      <td>...</td>\n      <td>...</td>\n    </tr>\n    <tr>\n      <th>2208</th>\n      <td>[114342, 257995, 367523, 384386, 407974, 40917...</td>\n      <td>19.0</td>\n      <td>2975 4126</td>\n      <td>2019-12-31</td>\n      <td>M</td>\n      <td>0.970588</td>\n      <td>19</td>\n      <td>M</td>\n    </tr>\n    <tr>\n      <th>2209</th>\n      <td>[355725, 416219, 471775, 518871, 519885, 52870...</td>\n      <td>34.0</td>\n      <td>4144</td>\n      <td>2019-12-31</td>\n      <td>M</td>\n      <td>0.970588</td>\n      <td>34</td>\n      <td>M</td>\n    </tr>\n    <tr>\n      <th>2210</th>\n      <td>[112044, 120672, 179988, 183691, 196232, 19775...</td>\n      <td>73.0</td>\n      <td>2946</td>\n      <td>2019-12-31</td>\n      <td>M</td>\n      <td>0.970588</td>\n      <td>73</td>\n      <td>M</td>\n    </tr>\n    <tr>\n      <th>2211</th>\n      <td>[104345, 116539, 120672, 121796, 129105, 16105...</td>\n      <td>63.0</td>\n      <td>5343</td>\n      <td>2019-12-31</td>\n      <td>M</td>\n      <td>0.970588</td>\n      <td>63</td>\n      <td>M</td>\n    </tr>\n    <tr>\n      <th>2212</th>\n      <td>[102136, 277677, 281256, 409174, 486791, 73248...</td>\n      <td>13.0</td>\n      <td>4125 4126</td>\n      <td>2019-12-31</td>\n      <td>M</td>\n      <td>0.970588</td>\n      <td>13</td>\n      <td>M</td>\n    </tr>\n  </tbody>\n</table>\n<p>2146 rows × 8 columns</p>\n</div>"
     },
     "execution_count": 16,
     "metadata": {},
     "output_type": "execute_result"
    }
   ],
   "source": [
    "from MiningGroupsBehaviorFWK.src.core.data_api.dataset_handler import DatasetHandler\n",
    "DatasetHandler\n",
    "pd.read_csv(\"test_csv.csv\",index_col=0)"
   ],
   "metadata": {
    "collapsed": false,
    "pycharm": {
     "name": "#%%\n"
    }
   }
  },
  {
   "cell_type": "code",
   "execution_count": 17,
   "outputs": [],
   "source": [
    " dh = DatasetHandler()\n",
    "    lh = LcmHandler()\n",
    "dh = DatasetHandler()\n",
    "items = dh.get_items()"
   ],
   "metadata": {
    "collapsed": false,
    "pycharm": {
     "name": "#%%\n"
    }
   }
  },
  {
   "cell_type": "code",
   "execution_count": 23,
   "outputs": [
    {
     "ename": "KeyError",
     "evalue": "\"None of [Int64Index([163], dtype='int64', name='article_id')] are in the [index]\"",
     "output_type": "error",
     "traceback": [
      "\u001B[0;31m---------------------------------------------------------------------------\u001B[0m",
      "\u001B[0;31mKeyError\u001B[0m                                  Traceback (most recent call last)",
      "\u001B[0;32m<ipython-input-23-db7c7d79632c>\u001B[0m in \u001B[0;36m<module>\u001B[0;34m\u001B[0m\n\u001B[0;32m----> 1\u001B[0;31m \u001B[0mitems\u001B[0m\u001B[0;34m.\u001B[0m\u001B[0mset_index\u001B[0m\u001B[0;34m(\u001B[0m\u001B[0;34m'article_id'\u001B[0m\u001B[0;34m)\u001B[0m\u001B[0;34m.\u001B[0m\u001B[0mloc\u001B[0m\u001B[0;34m[\u001B[0m\u001B[0;34m[\u001B[0m\u001B[0;36m163\u001B[0m\u001B[0;34m]\u001B[0m\u001B[0;34m]\u001B[0m\u001B[0;34m\u001B[0m\u001B[0;34m\u001B[0m\u001B[0m\n\u001B[0m",
      "\u001B[0;32m~/3env/local/lib/python3.7/site-packages/pandas/core/indexing.py\u001B[0m in \u001B[0;36m__getitem__\u001B[0;34m(self, key)\u001B[0m\n\u001B[1;32m   1766\u001B[0m \u001B[0;34m\u001B[0m\u001B[0m\n\u001B[1;32m   1767\u001B[0m             \u001B[0mmaybe_callable\u001B[0m \u001B[0;34m=\u001B[0m \u001B[0mcom\u001B[0m\u001B[0;34m.\u001B[0m\u001B[0mapply_if_callable\u001B[0m\u001B[0;34m(\u001B[0m\u001B[0mkey\u001B[0m\u001B[0;34m,\u001B[0m \u001B[0mself\u001B[0m\u001B[0;34m.\u001B[0m\u001B[0mobj\u001B[0m\u001B[0;34m)\u001B[0m\u001B[0;34m\u001B[0m\u001B[0;34m\u001B[0m\u001B[0m\n\u001B[0;32m-> 1768\u001B[0;31m             \u001B[0;32mreturn\u001B[0m \u001B[0mself\u001B[0m\u001B[0;34m.\u001B[0m\u001B[0m_getitem_axis\u001B[0m\u001B[0;34m(\u001B[0m\u001B[0mmaybe_callable\u001B[0m\u001B[0;34m,\u001B[0m \u001B[0maxis\u001B[0m\u001B[0;34m=\u001B[0m\u001B[0maxis\u001B[0m\u001B[0;34m)\u001B[0m\u001B[0;34m\u001B[0m\u001B[0;34m\u001B[0m\u001B[0m\n\u001B[0m\u001B[1;32m   1769\u001B[0m \u001B[0;34m\u001B[0m\u001B[0m\n\u001B[1;32m   1770\u001B[0m     \u001B[0;32mdef\u001B[0m \u001B[0m_is_scalar_access\u001B[0m\u001B[0;34m(\u001B[0m\u001B[0mself\u001B[0m\u001B[0;34m,\u001B[0m \u001B[0mkey\u001B[0m\u001B[0;34m:\u001B[0m \u001B[0mTuple\u001B[0m\u001B[0;34m)\u001B[0m\u001B[0;34m:\u001B[0m\u001B[0;34m\u001B[0m\u001B[0;34m\u001B[0m\u001B[0m\n",
      "\u001B[0;32m~/3env/local/lib/python3.7/site-packages/pandas/core/indexing.py\u001B[0m in \u001B[0;36m_getitem_axis\u001B[0;34m(self, key, axis)\u001B[0m\n\u001B[1;32m   1952\u001B[0m                     \u001B[0;32mraise\u001B[0m \u001B[0mValueError\u001B[0m\u001B[0;34m(\u001B[0m\u001B[0;34m\"Cannot index with multidimensional key\"\u001B[0m\u001B[0;34m)\u001B[0m\u001B[0;34m\u001B[0m\u001B[0;34m\u001B[0m\u001B[0m\n\u001B[1;32m   1953\u001B[0m \u001B[0;34m\u001B[0m\u001B[0m\n\u001B[0;32m-> 1954\u001B[0;31m                 \u001B[0;32mreturn\u001B[0m \u001B[0mself\u001B[0m\u001B[0;34m.\u001B[0m\u001B[0m_getitem_iterable\u001B[0m\u001B[0;34m(\u001B[0m\u001B[0mkey\u001B[0m\u001B[0;34m,\u001B[0m \u001B[0maxis\u001B[0m\u001B[0;34m=\u001B[0m\u001B[0maxis\u001B[0m\u001B[0;34m)\u001B[0m\u001B[0;34m\u001B[0m\u001B[0;34m\u001B[0m\u001B[0m\n\u001B[0m\u001B[1;32m   1955\u001B[0m \u001B[0;34m\u001B[0m\u001B[0m\n\u001B[1;32m   1956\u001B[0m             \u001B[0;31m# nested tuple slicing\u001B[0m\u001B[0;34m\u001B[0m\u001B[0;34m\u001B[0m\u001B[0;34m\u001B[0m\u001B[0m\n",
      "\u001B[0;32m~/3env/local/lib/python3.7/site-packages/pandas/core/indexing.py\u001B[0m in \u001B[0;36m_getitem_iterable\u001B[0;34m(self, key, axis)\u001B[0m\n\u001B[1;32m   1593\u001B[0m         \u001B[0;32melse\u001B[0m\u001B[0;34m:\u001B[0m\u001B[0;34m\u001B[0m\u001B[0;34m\u001B[0m\u001B[0m\n\u001B[1;32m   1594\u001B[0m             \u001B[0;31m# A collection of keys\u001B[0m\u001B[0;34m\u001B[0m\u001B[0;34m\u001B[0m\u001B[0;34m\u001B[0m\u001B[0m\n\u001B[0;32m-> 1595\u001B[0;31m             \u001B[0mkeyarr\u001B[0m\u001B[0;34m,\u001B[0m \u001B[0mindexer\u001B[0m \u001B[0;34m=\u001B[0m \u001B[0mself\u001B[0m\u001B[0;34m.\u001B[0m\u001B[0m_get_listlike_indexer\u001B[0m\u001B[0;34m(\u001B[0m\u001B[0mkey\u001B[0m\u001B[0;34m,\u001B[0m \u001B[0maxis\u001B[0m\u001B[0;34m,\u001B[0m \u001B[0mraise_missing\u001B[0m\u001B[0;34m=\u001B[0m\u001B[0;32mFalse\u001B[0m\u001B[0;34m)\u001B[0m\u001B[0;34m\u001B[0m\u001B[0;34m\u001B[0m\u001B[0m\n\u001B[0m\u001B[1;32m   1596\u001B[0m             return self.obj._reindex_with_indexers(\n\u001B[1;32m   1597\u001B[0m                 \u001B[0;34m{\u001B[0m\u001B[0maxis\u001B[0m\u001B[0;34m:\u001B[0m \u001B[0;34m[\u001B[0m\u001B[0mkeyarr\u001B[0m\u001B[0;34m,\u001B[0m \u001B[0mindexer\u001B[0m\u001B[0;34m]\u001B[0m\u001B[0;34m}\u001B[0m\u001B[0;34m,\u001B[0m \u001B[0mcopy\u001B[0m\u001B[0;34m=\u001B[0m\u001B[0;32mTrue\u001B[0m\u001B[0;34m,\u001B[0m \u001B[0mallow_dups\u001B[0m\u001B[0;34m=\u001B[0m\u001B[0;32mTrue\u001B[0m\u001B[0;34m\u001B[0m\u001B[0;34m\u001B[0m\u001B[0m\n",
      "\u001B[0;32m~/3env/local/lib/python3.7/site-packages/pandas/core/indexing.py\u001B[0m in \u001B[0;36m_get_listlike_indexer\u001B[0;34m(self, key, axis, raise_missing)\u001B[0m\n\u001B[1;32m   1551\u001B[0m \u001B[0;34m\u001B[0m\u001B[0m\n\u001B[1;32m   1552\u001B[0m         self._validate_read_indexer(\n\u001B[0;32m-> 1553\u001B[0;31m             \u001B[0mkeyarr\u001B[0m\u001B[0;34m,\u001B[0m \u001B[0mindexer\u001B[0m\u001B[0;34m,\u001B[0m \u001B[0mo\u001B[0m\u001B[0;34m.\u001B[0m\u001B[0m_get_axis_number\u001B[0m\u001B[0;34m(\u001B[0m\u001B[0maxis\u001B[0m\u001B[0;34m)\u001B[0m\u001B[0;34m,\u001B[0m \u001B[0mraise_missing\u001B[0m\u001B[0;34m=\u001B[0m\u001B[0mraise_missing\u001B[0m\u001B[0;34m\u001B[0m\u001B[0;34m\u001B[0m\u001B[0m\n\u001B[0m\u001B[1;32m   1554\u001B[0m         )\n\u001B[1;32m   1555\u001B[0m         \u001B[0;32mreturn\u001B[0m \u001B[0mkeyarr\u001B[0m\u001B[0;34m,\u001B[0m \u001B[0mindexer\u001B[0m\u001B[0;34m\u001B[0m\u001B[0;34m\u001B[0m\u001B[0m\n",
      "\u001B[0;32m~/3env/local/lib/python3.7/site-packages/pandas/core/indexing.py\u001B[0m in \u001B[0;36m_validate_read_indexer\u001B[0;34m(self, key, indexer, axis, raise_missing)\u001B[0m\n\u001B[1;32m   1638\u001B[0m             \u001B[0;32mif\u001B[0m \u001B[0mmissing\u001B[0m \u001B[0;34m==\u001B[0m \u001B[0mlen\u001B[0m\u001B[0;34m(\u001B[0m\u001B[0mindexer\u001B[0m\u001B[0;34m)\u001B[0m\u001B[0;34m:\u001B[0m\u001B[0;34m\u001B[0m\u001B[0;34m\u001B[0m\u001B[0m\n\u001B[1;32m   1639\u001B[0m                 \u001B[0maxis_name\u001B[0m \u001B[0;34m=\u001B[0m \u001B[0mself\u001B[0m\u001B[0;34m.\u001B[0m\u001B[0mobj\u001B[0m\u001B[0;34m.\u001B[0m\u001B[0m_get_axis_name\u001B[0m\u001B[0;34m(\u001B[0m\u001B[0maxis\u001B[0m\u001B[0;34m)\u001B[0m\u001B[0;34m\u001B[0m\u001B[0;34m\u001B[0m\u001B[0m\n\u001B[0;32m-> 1640\u001B[0;31m                 \u001B[0;32mraise\u001B[0m \u001B[0mKeyError\u001B[0m\u001B[0;34m(\u001B[0m\u001B[0;34mf\"None of [{key}] are in the [{axis_name}]\"\u001B[0m\u001B[0;34m)\u001B[0m\u001B[0;34m\u001B[0m\u001B[0;34m\u001B[0m\u001B[0m\n\u001B[0m\u001B[1;32m   1641\u001B[0m \u001B[0;34m\u001B[0m\u001B[0m\n\u001B[1;32m   1642\u001B[0m             \u001B[0;31m# We (temporarily) allow for some missing keys with .loc, except in\u001B[0m\u001B[0;34m\u001B[0m\u001B[0;34m\u001B[0m\u001B[0;34m\u001B[0m\u001B[0m\n",
      "\u001B[0;31mKeyError\u001B[0m: \"None of [Int64Index([163], dtype='int64', name='article_id')] are in the [index]\""
     ]
    }
   ],
   "source": [
    "items.set_index('article_id').loc[[163]]"
   ],
   "metadata": {
    "collapsed": false,
    "pycharm": {
     "name": "#%%\n"
    }
   }
  },
  {
   "cell_type": "code",
   "execution_count": 26,
   "outputs": [
    {
     "data": {
      "text/plain": "array([5246, 4962, 3573, ..., 4264, 2457, 4987])"
     },
     "execution_count": 26,
     "metadata": {},
     "output_type": "execute_result"
    }
   ],
   "source": [
    "items.article_id.unique()\n"
   ],
   "metadata": {
    "collapsed": false,
    "pycharm": {
     "name": "#%%\n"
    }
   }
  }
 ],
 "metadata": {
  "kernelspec": {
   "display_name": "Python 3",
   "language": "python",
   "name": "python3"
  },
  "language_info": {
   "codemirror_mode": {
    "name": "ipython",
    "version": 2
   },
   "file_extension": ".py",
   "mimetype": "text/x-python",
   "name": "python",
   "nbconvert_exporter": "python",
   "pygments_lexer": "ipython2",
   "version": "2.7.6"
  }
 },
 "nbformat": 4,
 "nbformat_minor": 0
}